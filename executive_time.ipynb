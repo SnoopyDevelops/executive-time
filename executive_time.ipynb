{
 "cells": [
  {
   "cell_type": "code",
   "execution_count": 1,
   "metadata": {},
   "outputs": [],
   "source": [
    "import copy\n",
    "from collections import OrderedDict\n",
    "from datetime import time\n",
    "\n",
    "import pandas as pd\n",
    "from sklearn import metrics\n",
    "from sklearn.model_selection import train_test_split\n",
    "from sklearn.tree import DecisionTreeClassifier, plot_tree"
   ]
  },
  {
   "cell_type": "code",
   "execution_count": 2,
   "metadata": {},
   "outputs": [],
   "source": [
    "class TrainedModel:\n",
    "    # trains the model and figures out the best value for the parameter\n",
    "    def __init__(self, dataset):\n",
    "        # initilaize decision tree model\n",
    "        self.clf = DecisionTreeClassifier()\n",
    "        # spilit train dataset into features and labels withoug affecting original dataset\n",
    "        [x_train, y_train] = copy.deepcopy(dataset)\n",
    "        # 5 possible pre-determined values\n",
    "        self.class_mapping = {\n",
    "            \"event\": 0,\n",
    "            \"executive_time\": 1,\n",
    "            \"lunch\": 2,\n",
    "            \"meeting\": 3,\n",
    "            \"travel\": 4,\n",
    "        }\n",
    "        # class number for positive labels\n",
    "        self.pos = self.class_mapping['executive_time']\n",
    "        # inverse dictionary to be used for getting original context from class number\n",
    "        self.inverse = dict(zip(self.class_mapping.values(), self.class_mapping.keys()))\n",
    "        # convert context values of dataset to class numbers\n",
    "        for i in range(len(x_train)):\n",
    "            for j in range(3):\n",
    "                x_train[i][j] = self.class_mapping[x_train[i][j]]\n",
    "            y_train[i] = self.class_mapping[y_train[i]]\n",
    "        # train model\n",
    "        self.clf = self.clf.fit(x_train, y_train)\n",
    "\n",
    "    def predict_one(self, top_category_0901, top_category_1101, top_category_1301):\n",
    "        # get class number for context of each top categories\n",
    "        top_category_0901 = self.class_mapping[top_category_0901]\n",
    "        top_category_1101 = self.class_mapping[top_category_1101]\n",
    "        top_category_1301 = self.class_mapping[top_category_1301]\n",
    "        # get class number of preditectd top category_1501\n",
    "        top_category_1501 = self.clf.predict(\n",
    "            [[top_category_0901, top_category_1101, top_category_1301]]\n",
    "        )\n",
    "        # return context value\n",
    "        return self.inverse[top_category_1501[0]]\n",
    "\n",
    "    def evaluate_performance(self, dataset):\n",
    "        # spilit test dataset into features and labels withoug affecting original dataset\n",
    "        [x_test, y_test] = copy.deepcopy(dataset)\n",
    "        \n",
    "        for i in range(len(x_test)):\n",
    "            # convert context value of test labels to class numbers\n",
    "            if y_test[i] in self.class_mapping.keys():\n",
    "                y_test[i] = self.class_mapping[y_test[i]]\n",
    "            # set all other ones to default(5)\n",
    "            else:\n",
    "                y_test[i] = 5\n",
    "            # convert context value of test features to class numbers\n",
    "            for j in range(3):\n",
    "                if x_test[i][j] in self.class_mapping.keys():\n",
    "                    x_test[i][j] = self.class_mapping[x_test[i][j]]\n",
    "                # set all other ones to default\n",
    "                else:\n",
    "                    x_test[i][j] = 5\n",
    "        # get class number of predicted \n",
    "        y_pred = self.clf.predict(x_test)        \n",
    "        # weighted performance metric\n",
    "        weights = []\n",
    "        for i in range(len(y_pred)):\n",
    "            if y_test[i] == self.pos or y_pred[i] == self.pos:\n",
    "                weights.append(1)\n",
    "            else:\n",
    "                weights.append(0)\n",
    "\n",
    "        return metrics.accuracy_score(y_test, y_pred, sample_weight=weights)\n",
    "        \n",
    "    def get_confusion_matrix(self, dataset):\n",
    "        [x_test, y_test] = copy.deepcopy(dataset)\n",
    "\n",
    "        for i in range(len(x_test)):\n",
    "            for j in range(3):\n",
    "                if x_test[i][j] in self.class_mapping.keys():\n",
    "                    x_test[i][j] = self.class_mapping[x_test[i][j]]\n",
    "                else:\n",
    "                    x_test[i][j] = 5\n",
    "\n",
    "            if y_test[i] in self.class_mapping.keys():\n",
    "                y_test[i] = self.class_mapping[y_test[i]]\n",
    "            else:\n",
    "                y_test[i] = 5\n",
    "\n",
    "        y_pred = self.clf.predict(x_test)\n",
    "        # get confusion matrix containing count\n",
    "        confusion_matrix = metrics.confusion_matrix(y_test, y_pred)\n",
    "        return confusion_matrix\n",
    "    \n",
    "    def visualize(self):\n",
    "        # plot tree of model\n",
    "        plot_tree(self.clf)"
   ]
  },
  {
   "cell_type": "code",
   "execution_count": 3,
   "metadata": {},
   "outputs": [],
   "source": [
    "# read excel file to pandas dataframe\n",
    "df = pd.read_excel(\n",
    "        \"President Donald Trump Private Schedules, Nov. 7, 2018 to Feb. 2, 2019.xlsx\",\n",
    "        index_col=\"date\",\n",
    "    )\n",
    "# get dates of dataset\n",
    "dates = list(OrderedDict.fromkeys(df.index.tolist()))\n",
    "# initialize list for dates which has no data\n",
    "no_data_dates = []\n",
    "(\n",
    "    top_categories_0901,\n",
    "    top_categories_1101,\n",
    "    top_categories_1301,\n",
    "    top_categories_1501,\n",
    ") = ([], [], [], [])\n",
    "\n",
    "for date in dates:\n",
    "    cols = df.loc[date]\n",
    "    top_category_0901, top_category_1101, top_category_1301, top_category_1501 = (\n",
    "        None,\n",
    "        None,\n",
    "        None,\n",
    "        None,\n",
    "    )\n",
    "    \n",
    "    if len(cols.shape) == 1:\n",
    "        # dates which has no data\n",
    "        if cols[\"top_category\"] == \"no_data\":\n",
    "            no_data_dates.append(date)\n",
    "            continue\n",
    "        # dates which has only one column in original dataset\n",
    "        else:\n",
    "            time_starts = [cols[\"time_start\"]]\n",
    "            time_ends = [cols[\"time_end\"]]\n",
    "            top_categories = [cols[\"top_category\"]]\n",
    "    else:\n",
    "        time_starts = cols[\"time_start\"].tolist()\n",
    "        time_ends = cols[\"time_end\"].tolist()\n",
    "        top_categories = cols[\"top_category\"].tolist()\n",
    "\n",
    "    for time_start, time_end, top_category in zip(\n",
    "        time_starts, time_ends, top_categories\n",
    "    ):\n",
    "        if time_start < time(9, 1) < time_end:\n",
    "            top_category_0901 = top_category\n",
    "        if time_start < time(11, 1) < time_end:\n",
    "            top_category_1101 = top_category\n",
    "        if time_start < time(13, 1) < time_end:\n",
    "            top_category_1301 = top_category\n",
    "        if time_start < time(15, 1) < time_end:\n",
    "            top_category_1501 = top_category\n",
    "\n",
    "    top_categories_0901.append(top_category_0901)\n",
    "    top_categories_1101.append(top_category_1101)\n",
    "    top_categories_1301.append(top_category_1301)\n",
    "    top_categories_1501.append(top_category_1501)\n",
    "\n",
    "dates = [i for i in dates if i not in no_data_dates]\n",
    "# get preprocessed dataset\n",
    "df = pd.DataFrame(\n",
    "    data={\n",
    "        \"top_category_0901\": top_categories_0901,\n",
    "        \"top_category_1101\": top_categories_1101,\n",
    "        \"top_category_1301\": top_categories_1301,\n",
    "        \"top_category_1501\": top_categories_1501,\n",
    "    },\n",
    "    index=dates,\n",
    ")\n",
    "# save preprocessed dataset to csv file\n",
    "df.to_csv(\"top_categories.csv\")"
   ]
  },
  {
   "cell_type": "code",
   "execution_count": 4,
   "metadata": {},
   "outputs": [],
   "source": [
    "# drop columns which has non values\n",
    "df = df.dropna(how=\"any\")\n",
    "# get features\n",
    "x = df[\n",
    "    [\"top_category_0901\", \"top_category_1101\", \"top_category_1301\"]\n",
    "].values.tolist()\n",
    "# get labels\n",
    "y = df[\"top_category_1501\"].tolist()"
   ]
  },
  {
   "cell_type": "code",
   "execution_count": 5,
   "metadata": {},
   "outputs": [
    {
     "name": "stdout",
     "output_type": "stream",
     "text": [
      "pos:  23\n"
     ]
    }
   ],
   "source": [
    "# get number of positive labels\n",
    "print('pos: ', y.count('executive_time'))"
   ]
  },
  {
   "cell_type": "code",
   "execution_count": 6,
   "metadata": {},
   "outputs": [
    {
     "name": "stdout",
     "output_type": "stream",
     "text": [
      "neg:  23\n"
     ]
    }
   ],
   "source": [
    "# get number of negative labels\n",
    "print('neg: ', len(y)-y.count('executive_time'))"
   ]
  },
  {
   "cell_type": "code",
   "execution_count": 7,
   "metadata": {},
   "outputs": [
    {
     "data": {
      "text/plain": [
       "0.5"
      ]
     },
     "execution_count": 7,
     "metadata": {},
     "output_type": "execute_result"
    }
   ],
   "source": [
    "# split dataset to train dataset and test dataset\n",
    "x_train, x_test, y_train, y_test = train_test_split(x, y, test_size=0.2)\n",
    "# get trained model\n",
    "trained_model_A = TrainedModel([x_train, y_train])\n",
    "# calculate performance\n",
    "performance = trained_model_A.evaluate_performance([x_test, y_test])\n",
    "performance"
   ]
  },
  {
   "cell_type": "code",
   "execution_count": 8,
   "metadata": {},
   "outputs": [
    {
     "name": "stdout",
     "output_type": "stream",
     "text": [
      "[[5 2]\n",
      " [3 0]]\n"
     ]
    },
    {
     "data": {
      "text/html": [
       "<div>\n",
       "<style scoped>\n",
       "    .dataframe tbody tr th:only-of-type {\n",
       "        vertical-align: middle;\n",
       "    }\n",
       "\n",
       "    .dataframe tbody tr th {\n",
       "        vertical-align: top;\n",
       "    }\n",
       "\n",
       "    .dataframe thead th {\n",
       "        text-align: right;\n",
       "    }\n",
       "</style>\n",
       "<table border=\"1\" class=\"dataframe\">\n",
       "  <thead>\n",
       "    <tr style=\"text-align: right;\">\n",
       "      <th></th>\n",
       "      <th>0</th>\n",
       "      <th>1</th>\n",
       "    </tr>\n",
       "  </thead>\n",
       "  <tbody>\n",
       "    <tr>\n",
       "      <td>0</td>\n",
       "      <td>5</td>\n",
       "      <td>2</td>\n",
       "    </tr>\n",
       "    <tr>\n",
       "      <td>1</td>\n",
       "      <td>3</td>\n",
       "      <td>0</td>\n",
       "    </tr>\n",
       "  </tbody>\n",
       "</table>\n",
       "</div>"
      ],
      "text/plain": [
       "   0  1\n",
       "0  5  2\n",
       "1  3  0"
      ]
     },
     "execution_count": 8,
     "metadata": {},
     "output_type": "execute_result"
    }
   ],
   "source": [
    "# get confusion matrix\n",
    "confusion_matrix = trained_model_A.get_confusion_matrix([x_test, y_test])\n",
    "print(confusion_matrix)\n",
    "pd.DataFrame(confusion_matrix)"
   ]
  },
  {
   "cell_type": "code",
   "execution_count": 9,
   "metadata": {},
   "outputs": [
    {
     "data": {
      "text/plain": [
       "'executive_time'"
      ]
     },
     "execution_count": 9,
     "metadata": {},
     "output_type": "execute_result"
    }
   ],
   "source": [
    "# teest predict function\n",
    "trained_model_A.predict_one('executive_time', 'meeting', 'lunch')"
   ]
  },
  {
   "cell_type": "code",
   "execution_count": 11,
   "metadata": {},
   "outputs": [
    {
     "data": {
      "image/png": "[encoded data removed]",
      "text/plain": [
       "<Figure size 432x288 with 1 Axes>"
      ]
     },
     "metadata": {
      "needs_background": "light"
     },
     "output_type": "display_data"
    }
   ],
   "source": [
    "# plot tree of model\n",
    "trained_model_A.visualize()"
   ]
  }
 ],
 "metadata": {
  "kernelspec": {
   "display_name": "Python 3",
   "language": "python",
   "name": "python3"
  },
  "language_info": {
   "codemirror_mode": {
    "name": "ipython",
    "version": 3
   },
   "file_extension": ".py",
   "mimetype": "text/x-python",
   "name": "python",
   "nbconvert_exporter": "python",
   "pygments_lexer": "ipython3",
   "version": "3.7.6"
  }
 },
 "nbformat": 4,
 "nbformat_minor": 2
}
